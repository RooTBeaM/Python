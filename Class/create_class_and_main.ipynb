{
 "cells": [
  {
   "cell_type": "code",
   "execution_count": 1,
   "metadata": {},
   "outputs": [],
   "source": [
    "class test_a:\n",
    "    def __init__(self, val1, val2:int, val3):\n",
    "        self.a = val1\n",
    "        self.b = val2\n",
    "        self.c = val3\n",
    "\n",
    "    def func1(x,y):\n",
    "        print(x+y)\n",
    "\n",
    "    def print_val(d,f,e):\n",
    "        print(d,f,e)"
   ]
  },
  {
   "cell_type": "code",
   "execution_count": 3,
   "metadata": {},
   "outputs": [
    {
     "name": "stdout",
     "output_type": "stream",
     "text": [
      "Call from grandparent (a):  1\n",
      "Call from Parent (b):  2\n",
      "Call from Child (c):  3\n",
      "Call from all (a,b,c):  1 2 3\n"
     ]
    }
   ],
   "source": [
    "# multi level class\n",
    "class GrandParentClass:\n",
    "    def __init__(self, a):\n",
    "        self.a = a\n",
    "        print(\"Call from grandparent (a): \", self.a)\n",
    "\n",
    "class ParentClass(GrandParentClass):\n",
    "    def __init__(self, a,b):\n",
    "        super().__init__(a)\n",
    "        self.b = b\n",
    "        print(\"Call from Parent (b): \", self.b)\n",
    "\n",
    "class ChildClass(ParentClass):\n",
    "    def __init__(self, a,b,c):\n",
    "        super().__init__(a,b)\n",
    "        self.c = c\n",
    "        print(\"Call from Child (c): \", self.c)\n",
    "\n",
    "test = ChildClass(1,2,3)\n",
    "print(\"Call from all (a,b,c): \", test.a,test.b,test.c)"
   ]
  },
  {
   "cell_type": "code",
   "execution_count": 2,
   "metadata": {},
   "outputs": [
    {
     "name": "stdout",
     "output_type": "stream",
     "text": [
      "12\n",
      "1 3 5\n"
     ]
    }
   ],
   "source": [
    "# run from this file\n",
    "if __name__ == \"__main__\":\n",
    "    aa = test_a(1,3,5)\n",
    "    test_a.func1(5,7)\n",
    "    test_a.print_val(aa.a, aa.b, aa.c)"
   ]
  }
 ],
 "metadata": {
  "interpreter": {
   "hash": "0470b39d3530367a7b63bab661296665ce5b8c4109b79a90598be9e98e972503"
  },
  "kernelspec": {
   "display_name": "Python 3.8.8 ('env': venv)",
   "language": "python",
   "name": "python3"
  },
  "language_info": {
   "codemirror_mode": {
    "name": "ipython",
    "version": 3
   },
   "file_extension": ".py",
   "mimetype": "text/x-python",
   "name": "python",
   "nbconvert_exporter": "python",
   "pygments_lexer": "ipython3",
   "version": "3.8.8"
  },
  "orig_nbformat": 4
 },
 "nbformat": 4,
 "nbformat_minor": 2
}
