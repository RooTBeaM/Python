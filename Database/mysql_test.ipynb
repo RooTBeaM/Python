{
 "cells": [
  {
   "cell_type": "markdown",
   "metadata": {},
   "source": [
    "# Code for MySql"
   ]
  },
  {
   "cell_type": "code",
   "execution_count": null,
   "metadata": {},
   "outputs": [],
   "source": [
    "# my sql command to create table\n",
    "\n",
    "# CREATE TABLE `test_database`.`test_database_candlestick` (\n",
    "#   `OpenTime` DATETIME NOT NULL,\n",
    "#   `O` FLOAT NOT NULL,\n",
    "#   `H` FLOAT NOT NULL,\n",
    "#   `L` FLOAT NOT NULL,\n",
    "#   `C` FLOAT NOT NULL,\n",
    "#   `V` INT NOT NULL,\n",
    "#   `CloaseTime` DATETIME NOT NULL,\n",
    "#   PRIMARY KEY (`OpenTime`))\n",
    "# COMMENT = 'Just test toimport candle stick';"
   ]
  },
  {
   "cell_type": "code",
   "execution_count": null,
   "metadata": {},
   "outputs": [],
   "source": [
    "# add data to mysql by manual\n",
    "\n",
    "# INSERT INTO `test_database`.`test_database_candlestick` (`OpenTime`, `O`, `H`, `L`, `C`, `V`, `CloseTime`) \n",
    "#   VALUES ('1.64958E+12', '1.037', '1.041', '1.027', '1.034', '5297665.3', '1.64959E+12');\n",
    "# INSERT INTO `test_database`.`test_database_candlestick` (`OpenTime`, `O`, `H`, `L`, `C`, `V`, `CloseTime`) \n",
    "#   VALUES ('1.64959E+12', '1.034', '1.044', '1.029', '1.041', '7105401.9', '1.64961E+12');\n"
   ]
  },
  {
   "cell_type": "code",
   "execution_count": null,
   "metadata": {},
   "outputs": [],
   "source": [
    "# SELECT columns to show \n",
    "\n",
    "## type 1\n",
    "# SELECT O,H FROM test_database_candlestick\n",
    "\n",
    "## type 2\n",
    "# SELECT * FROM test_database_candlestick\n",
    "# WHERE L <= 1.03;\n",
    "\n",
    "# SELECT * FROM test_database_candlestick\n",
    "# WHERE L <= 1.03 AND C > 1.035;\n",
    "\n",
    "## for text\n",
    "# SELECT * FROM YourTable\n",
    "# WHERE ColumName LIKE %KeyWord%;"
   ]
  },
  {
   "cell_type": "code",
   "execution_count": null,
   "metadata": {},
   "outputs": [],
   "source": [
    "# Sort table\n",
    "\n",
    "# SELECT * FROM test_database_candlestick\n",
    "# ORDER BY V ASC; # DESC\n",
    "\n",
    "## select ROW\n",
    "\n",
    "# SELECT * FROM test_database_candlestick\n",
    "# ORDER BY V DESC\n",
    "# LIMIT 2 OFFSET 2;"
   ]
  },
  {
   "cell_type": "code",
   "execution_count": null,
   "metadata": {},
   "outputs": [],
   "source": [
    "# Editting table\n",
    "\n",
    "# UPDATE test_database_candlestick SET V = 55555\n",
    "# WHERE C > 1.06;\n"
   ]
  },
  {
   "cell_type": "code",
   "execution_count": null,
   "metadata": {},
   "outputs": [],
   "source": [
    "# Delete DATA\n",
    "\n",
    "# DELETE FROM test_database_candlestick\n",
    "# WHERE C > 1.06;"
   ]
  },
  {
   "cell_type": "markdown",
   "metadata": {},
   "source": [
    "# Code for python"
   ]
  },
  {
   "cell_type": "code",
   "execution_count": 14,
   "metadata": {},
   "outputs": [],
   "source": [
    "# !pip install SQLAlchemy\n",
    "from sqlalchemy import create_engine\n",
    "import pandas as pd"
   ]
  },
  {
   "cell_type": "code",
   "execution_count": 15,
   "metadata": {},
   "outputs": [],
   "source": [
    "# Create a connection object\n",
    "\n",
    "database_username = 'Panya'\n",
    "database_password = 'Zing1234'\n",
    "database_ip       = '127.0.0.1'\n",
    "database_name     = 'test_database'\n",
    "sqlEngine = create_engine('mysql+mysqlconnector://{0}:{1}@{2}/{3}'.format(database_username, database_password,database_ip, database_name))\n",
    "dbConnection    = sqlEngine.connect()"
   ]
  },
  {
   "cell_type": "code",
   "execution_count": 16,
   "metadata": {},
   "outputs": [],
   "source": [
    "df = pd.read_csv('ADA_TF4h_in_60d.csv')[50:100]\n",
    "\n",
    "df2 = pd.read_csv('ADA_TF4h_in_60d.csv')[20:25]"
   ]
  },
  {
   "cell_type": "code",
   "execution_count": 17,
   "metadata": {},
   "outputs": [
    {
     "name": "stderr",
     "output_type": "stream",
     "text": [
      "c:\\Users\\panya\\anaconda3\\lib\\site-packages\\pandas\\io\\sql.py:1444: UserWarning: The provided table name 'ADAUSDT1' is not found exactly as such in the database after writing the table, possibly due to case sensitivity issues. Consider using lower case table names.\n",
      "  warnings.warn(msg, UserWarning)\n"
     ]
    }
   ],
   "source": [
    "# create a new table and add values \n",
    "df.to_sql(name='ADAUSDT1', con=dbConnection, if_exists='append')\n",
    "\n",
    "df2.to_sql(name='ADAUSDT1', con=dbConnection, if_exists='append')"
   ]
  },
  {
   "cell_type": "code",
   "execution_count": 19,
   "metadata": {},
   "outputs": [
    {
     "data": {
      "text/html": [
       "<div>\n",
       "<style scoped>\n",
       "    .dataframe tbody tr th:only-of-type {\n",
       "        vertical-align: middle;\n",
       "    }\n",
       "\n",
       "    .dataframe tbody tr th {\n",
       "        vertical-align: top;\n",
       "    }\n",
       "\n",
       "    .dataframe thead th {\n",
       "        text-align: right;\n",
       "    }\n",
       "</style>\n",
       "<table border=\"1\" class=\"dataframe\">\n",
       "  <thead>\n",
       "    <tr style=\"text-align: right;\">\n",
       "      <th></th>\n",
       "      <th>index</th>\n",
       "      <th>OpenTime</th>\n",
       "      <th>O</th>\n",
       "      <th>H</th>\n",
       "      <th>L</th>\n",
       "      <th>C</th>\n",
       "      <th>V</th>\n",
       "      <th>CloseTime</th>\n",
       "    </tr>\n",
       "  </thead>\n",
       "  <tbody>\n",
       "    <tr>\n",
       "      <th>0</th>\n",
       "      <td>50</td>\n",
       "      <td>1650297600000</td>\n",
       "      <td>0.899</td>\n",
       "      <td>0.937</td>\n",
       "      <td>0.891</td>\n",
       "      <td>0.929</td>\n",
       "      <td>26553633.3</td>\n",
       "      <td>1650311999999</td>\n",
       "    </tr>\n",
       "    <tr>\n",
       "      <th>1</th>\n",
       "      <td>51</td>\n",
       "      <td>1650312000000</td>\n",
       "      <td>0.929</td>\n",
       "      <td>0.939</td>\n",
       "      <td>0.928</td>\n",
       "      <td>0.937</td>\n",
       "      <td>10818062.9</td>\n",
       "      <td>1650326399999</td>\n",
       "    </tr>\n",
       "    <tr>\n",
       "      <th>2</th>\n",
       "      <td>52</td>\n",
       "      <td>1650326400000</td>\n",
       "      <td>0.936</td>\n",
       "      <td>0.947</td>\n",
       "      <td>0.928</td>\n",
       "      <td>0.930</td>\n",
       "      <td>14249992.8</td>\n",
       "      <td>1650340799999</td>\n",
       "    </tr>\n",
       "    <tr>\n",
       "      <th>3</th>\n",
       "      <td>53</td>\n",
       "      <td>1650340800000</td>\n",
       "      <td>0.929</td>\n",
       "      <td>0.936</td>\n",
       "      <td>0.927</td>\n",
       "      <td>0.928</td>\n",
       "      <td>7129038.6</td>\n",
       "      <td>1650355199999</td>\n",
       "    </tr>\n",
       "    <tr>\n",
       "      <th>4</th>\n",
       "      <td>54</td>\n",
       "      <td>1650355200000</td>\n",
       "      <td>0.928</td>\n",
       "      <td>0.939</td>\n",
       "      <td>0.927</td>\n",
       "      <td>0.932</td>\n",
       "      <td>10969777.8</td>\n",
       "      <td>1650369599999</td>\n",
       "    </tr>\n",
       "  </tbody>\n",
       "</table>\n",
       "</div>"
      ],
      "text/plain": [
       "   index       OpenTime      O      H      L      C           V      CloseTime\n",
       "0     50  1650297600000  0.899  0.937  0.891  0.929  26553633.3  1650311999999\n",
       "1     51  1650312000000  0.929  0.939  0.928  0.937  10818062.9  1650326399999\n",
       "2     52  1650326400000  0.936  0.947  0.928  0.930  14249992.8  1650340799999\n",
       "3     53  1650340800000  0.929  0.936  0.927  0.928   7129038.6  1650355199999\n",
       "4     54  1650355200000  0.928  0.939  0.927  0.932  10969777.8  1650369599999"
      ]
     },
     "execution_count": 19,
     "metadata": {},
     "output_type": "execute_result"
    }
   ],
   "source": [
    "# read valuse from db\n",
    "result = pd.read_sql(\"SELECT * FROM ADAUSDT1\", dbConnection)\n",
    "result.head()"
   ]
  },
  {
   "cell_type": "code",
   "execution_count": 20,
   "metadata": {},
   "outputs": [
    {
     "data": {
      "text/plain": [
       "[(50, 1650297600000, 0.899, 0.937, 0.891, 0.929, 26553633.3, 1650311999999),\n",
       " (51, 1650312000000, 0.929, 0.939, 0.928, 0.937, 10818062.9, 1650326399999),\n",
       " (52, 1650326400000, 0.936, 0.947, 0.928, 0.93, 14249992.8, 1650340799999),\n",
       " (53, 1650340800000, 0.929, 0.936, 0.927, 0.928, 7129038.6, 1650355199999),\n",
       " (54, 1650355200000, 0.928, 0.939, 0.927, 0.932, 10969777.8, 1650369599999),\n",
       " (55, 1650369600000, 0.931, 0.957, 0.93, 0.946, 23048171.3, 1650383999999),\n",
       " (56, 1650384000000, 0.946, 0.95, 0.936, 0.947, 11776147.8, 1650398399999),\n",
       " (57, 1650398400000, 0.947, 0.955, 0.94, 0.952, 8259561.4, 1650412799999),\n",
       " (58, 1650412800000, 0.952, 0.954, 0.94, 0.944, 8765973.0, 1650427199999),\n",
       " (59, 1650427200000, 0.944, 0.953, 0.937, 0.945, 10059721.4, 1650441599999),\n",
       " (60, 1650441600000, 0.945, 0.972, 0.944, 0.967, 19701299.7, 1650455999999),\n",
       " (61, 1650456000000, 0.967, 0.976, 0.941, 0.947, 31504349.2, 1650470399999),\n",
       " (62, 1650470400000, 0.946, 0.949, 0.93, 0.939, 15865690.7, 1650484799999),\n",
       " (63, 1650484800000, 0.938, 0.945, 0.934, 0.937, 7747269.6, 1650499199999),\n",
       " (64, 1650499200000, 0.937, 0.951, 0.935, 0.949, 8346690.3, 1650513599999),\n",
       " (65, 1650513600000, 0.949, 0.951, 0.934, 0.95, 8634928.3, 1650527999999),\n",
       " (66, 1650528000000, 0.949, 0.962, 0.94, 0.955, 18210796.6, 1650542399999),\n",
       " (67, 1650542400000, 0.955, 0.971, 0.952, 0.955, 25037670.6, 1650556799999),\n",
       " (68, 1650556800000, 0.954, 0.955, 0.933, 0.933, 14926236.5, 1650571199999),\n",
       " (69, 1650571200000, 0.933, 0.935, 0.891, 0.91, 29851656.1, 1650585599999),\n",
       " (70, 1650585600000, 0.91, 0.922, 0.906, 0.915, 13911779.3, 1650599999999),\n",
       " (71, 1650600000000, 0.914, 0.924, 0.908, 0.919, 11766007.5, 1650614399999),\n",
       " (72, 1650614400000, 0.918, 0.922, 0.907, 0.919, 12074815.4, 1650628799999),\n",
       " (73, 1650628800000, 0.92, 0.921, 0.894, 0.895, 25579349.0, 1650643199999),\n",
       " (74, 1650643200000, 0.895, 0.909, 0.891, 0.902, 13087753.8, 1650657599999),\n",
       " (75, 1650657600000, 0.902, 0.91, 0.9, 0.906, 5971311.7, 1650671999999),\n",
       " (76, 1650672000000, 0.906, 0.913, 0.889, 0.893, 6995944.0, 1650686399999),\n",
       " (77, 1650686400000, 0.892, 0.896, 0.881, 0.895, 6724094.9, 1650700799999),\n",
       " (78, 1650700800000, 0.896, 0.903, 0.895, 0.9, 3697237.4, 1650715199999),\n",
       " (79, 1650715200000, 0.9, 0.903, 0.895, 0.902, 5261435.4, 1650729599999),\n",
       " (80, 1650729600000, 0.902, 0.906, 0.896, 0.899, 4611815.1, 1650743999999),\n",
       " (81, 1650744000000, 0.899, 0.901, 0.885, 0.886, 7268540.7, 1650758399999),\n",
       " (82, 1650758400000, 0.886, 0.895, 0.883, 0.894, 7072307.0, 1650772799999),\n",
       " (83, 1650772800000, 0.893, 0.899, 0.893, 0.895, 4218607.1, 1650787199999),\n",
       " (84, 1650787200000, 0.894, 0.895, 0.885, 0.887, 6487758.5, 1650801599999),\n",
       " (85, 1650801600000, 0.887, 0.896, 0.882, 0.892, 8841448.7, 1650815999999),\n",
       " (86, 1650816000000, 0.892, 0.895, 0.877, 0.89, 16125956.0, 1650830399999),\n",
       " (87, 1650830400000, 0.891, 0.893, 0.883, 0.886, 6444939.7, 1650844799999),\n",
       " (88, 1650844800000, 0.885, 0.886, 0.853, 0.872, 25321955.5, 1650859199999),\n",
       " (89, 1650859200000, 0.873, 0.873, 0.83, 0.8332, 35532184.2, 1650873599999),\n",
       " (90, 1650873600000, 0.8337, 0.8576, 0.8261, 0.8568, 33884064.8, 1650887999999),\n",
       " (91, 1650888000000, 0.8568, 0.8669, 0.8482, 0.8581, 32601112.4, 1650902399999),\n",
       " (92, 1650902400000, 0.8582, 0.888, 0.8563, 0.8874, 21238975.4, 1650916799999),\n",
       " (93, 1650916800000, 0.8876, 0.9039, 0.8851, 0.8974, 23366232.2, 1650931199999),\n",
       " (94, 1650931200000, 0.8975, 0.903, 0.8828, 0.8882, 21615210.7, 1650945599999),\n",
       " (95, 1650945600000, 0.8884, 0.8958, 0.8833, 0.8899, 11368795.3, 1650959999999),\n",
       " (96, 1650960000000, 0.8899, 0.8987, 0.8812, 0.8853, 14716270.8, 1650974399999),\n",
       " (97, 1650974400000, 0.8854, 0.8891, 0.8408, 0.8431, 39776901.3, 1650988799999),\n",
       " (98, 1650988800000, 0.8431, 0.8474, 0.815, 0.8301, 52718417.6, 1651003199999),\n",
       " (99, 1651003200000, 0.8302, 0.843, 0.817, 0.8259, 36514471.3, 1651017599999),\n",
       " (20, 1649865600000, 0.972, 0.977, 0.959, 0.964, 15656150.3, 1649879999999),\n",
       " (21, 1649880000000, 0.964, 0.981, 0.963, 0.974, 10283295.2, 1649894399999),\n",
       " (22, 1649894400000, 0.974, 0.985, 0.969, 0.974, 11830077.4, 1649908799999),\n",
       " (23, 1649908800000, 0.974, 0.981, 0.965, 0.972, 11718573.7, 1649923199999),\n",
       " (24, 1649923200000, 0.972, 0.975, 0.951, 0.954, 12553878.8, 1649937599999)]"
      ]
     },
     "execution_count": 20,
     "metadata": {},
     "output_type": "execute_result"
    }
   ],
   "source": [
    "# fetchall table \n",
    "sqlEngine.execute(\"SELECT * FROM ADAUSDT1\").fetchall()"
   ]
  },
  {
   "cell_type": "code",
   "execution_count": 21,
   "metadata": {},
   "outputs": [
    {
     "name": "stdout",
     "output_type": "stream",
     "text": [
      "Creating table \n",
      "    CREATE TABLE `test_database`.`ADAUSDT2` (\n",
      "    `OpenTime` BIGINT NOT NULL,\n",
      "    `O` FLOAT NOT NULL,\n",
      "    `H` FLOAT NOT NULL,\n",
      "    `L` FLOAT NOT NULL,\n",
      "    `C` FLOAT NOT NULL,\n",
      "    `V` INT NOT NULL,\n",
      "    `CloseTime` BIGINT NOT NULL,\n",
      "    PRIMARY KEY (`OpenTime`))\n",
      "    COMMENT = 'Just test to import candle stick';\n",
      ": "
     ]
    },
    {
     "data": {
      "text/plain": [
       "<sqlalchemy.engine.cursor.LegacyCursorResult at 0x1cad1bf9ca0>"
      ]
     },
     "execution_count": 21,
     "metadata": {},
     "output_type": "execute_result"
    }
   ],
   "source": [
    "# create table\n",
    "\n",
    "table_name = '''\n",
    "    CREATE TABLE `test_database`.`ADAUSDT2` (\n",
    "    `OpenTime` BIGINT NOT NULL,\n",
    "    `O` FLOAT NOT NULL,\n",
    "    `H` FLOAT NOT NULL,\n",
    "    `L` FLOAT NOT NULL,\n",
    "    `C` FLOAT NOT NULL,\n",
    "    `V` INT NOT NULL,\n",
    "    `CloseTime` BIGINT NOT NULL,\n",
    "    PRIMARY KEY (`OpenTime`))\n",
    "    COMMENT = 'Just test to import candle stick';\n",
    "'''\n",
    "\n",
    "print(\"Creating table {}: \".format(table_name), end='')\n",
    "sqlEngine.execute(table_name)\n"
   ]
  },
  {
   "cell_type": "code",
   "execution_count": 22,
   "metadata": {},
   "outputs": [
    {
     "data": {
      "text/plain": [
       "<sqlalchemy.engine.cursor.LegacyCursorResult at 0x1cad1bf9eb0>"
      ]
     },
     "execution_count": 22,
     "metadata": {},
     "output_type": "execute_result"
    }
   ],
   "source": [
    "# add by row\n",
    "# add by row\n",
    "row_1 = '''INSERT INTO `test_database`.`ADAUSDT2` (`OpenTime`, `O`, `H`, `L`, `C`, `V`, `CloseTime`) \n",
    "            VALUES ('1.75958E+12', '1.037', '1.041', '1.027', '1.034', '5297665.3', '1.64959E+12');'''\n",
    "\n",
    "sqlEngine.execute(row_1)\n",
    "# db.commit()\n",
    "# no need commit if use sqlalchemy"
   ]
  },
  {
   "cell_type": "code",
   "execution_count": 23,
   "metadata": {},
   "outputs": [],
   "source": [
    "dbConnection.close()"
   ]
  },
  {
   "cell_type": "code",
   "execution_count": null,
   "metadata": {},
   "outputs": [],
   "source": []
  }
 ],
 "metadata": {
  "interpreter": {
   "hash": "50829dc233510a23836ad23c044c62faa8ae70f6db6e87149639d9167e812240"
  },
  "kernelspec": {
   "display_name": "Python 3.8.8 ('base')",
   "language": "python",
   "name": "python3"
  },
  "language_info": {
   "codemirror_mode": {
    "name": "ipython",
    "version": 3
   },
   "file_extension": ".py",
   "mimetype": "text/x-python",
   "name": "python",
   "nbconvert_exporter": "python",
   "pygments_lexer": "ipython3",
   "version": "3.8.8"
  },
  "orig_nbformat": 4
 },
 "nbformat": 4,
 "nbformat_minor": 2
}
