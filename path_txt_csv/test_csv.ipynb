{
 "cells": [
  {
   "cell_type": "code",
   "execution_count": 1,
   "metadata": {},
   "outputs": [
    {
     "name": "stdout",
     "output_type": "stream",
     "text": [
      "ไดเร็คทอรีปัจจุบัน คือ  /Users/rootbeam/code_index/old_setup/path_txt_csv\n",
      "ไดเร็คทอรี  /Users/rootbeam/code_index/old_setup/path_txt_csv ประกอบด้วย  ['test_csv.csv', 'test_text_2.txt', 'test_text_3.txt', 'test_text_1.txt', 'test_csv.ipynb', '.ipynb_checkpoints']\n"
     ]
    }
   ],
   "source": [
    "import os\n",
    "\n",
    "# need to encode before print\n",
    "import sys\n",
    "# sys.stdout.reconfigure(encoding='utf-8')\n",
    "\n",
    "\n",
    "print(\"ไดเร็คทอรีปัจจุบัน คือ \",os.getcwd())\n",
    "print(\"ไดเร็คทอรี \", os.getcwd() , \"ประกอบด้วย \", os.listdir(os.getcwd()))\n"
   ]
  },
  {
   "cell_type": "code",
   "execution_count": 2,
   "metadata": {},
   "outputs": [
    {
     "name": "stdout",
     "output_type": "stream",
     "text": [
      "ไดเร็คทอรี  /Users/rootbeam/code_index/old_setup/path_txt_csv ประกอบด้วย  ['test_csv.csv', 'test_text_2.txt', 'test_text_3.txt', 'test_text_1.txt', 'test_csv.ipynb', '..\\\\path_txt_csv\\\\os_test_path', '.ipynb_checkpoints']\n"
     ]
    },
    {
     "ename": "FileNotFoundError",
     "evalue": "[Errno 2] No such file or directory: '.\\\\os_test_path' -> '.\\\\python_test'",
     "output_type": "error",
     "traceback": [
      "\u001b[0;31m---------------------------------------------------------------------------\u001b[0m",
      "\u001b[0;31mFileNotFoundError\u001b[0m                         Traceback (most recent call last)",
      "\u001b[1;32m/Users/rootbeam/code_index/old_setup/path_txt_csv/test_csv.ipynb Cell 2\u001b[0m in \u001b[0;36m<cell line: 1>\u001b[0;34m()\u001b[0m\n\u001b[1;32m      <a href='vscode-notebook-cell:/Users/rootbeam/code_index/old_setup/path_txt_csv/test_csv.ipynb#ch0000001?line=4'>5</a>\u001b[0m \u001b[39melse\u001b[39;00m :\n\u001b[1;32m      <a href='vscode-notebook-cell:/Users/rootbeam/code_index/old_setup/path_txt_csv/test_csv.ipynb#ch0000001?line=5'>6</a>\u001b[0m     \u001b[39mprint\u001b[39m(\u001b[39m\"\u001b[39m\u001b[39mไดเร็คทอรี \u001b[39m\u001b[39m\"\u001b[39m, os\u001b[39m.\u001b[39mgetcwd() , \u001b[39m\"\u001b[39m\u001b[39mประกอบด้วย \u001b[39m\u001b[39m\"\u001b[39m, os\u001b[39m.\u001b[39mlistdir(os\u001b[39m.\u001b[39mgetcwd()))\n\u001b[0;32m----> <a href='vscode-notebook-cell:/Users/rootbeam/code_index/old_setup/path_txt_csv/test_csv.ipynb#ch0000001?line=7'>8</a>\u001b[0m     os\u001b[39m.\u001b[39;49mrename(\u001b[39m\"\u001b[39;49m\u001b[39m.\u001b[39;49m\u001b[39m\\\u001b[39;49m\u001b[39mos_test_path\u001b[39;49m\u001b[39m\"\u001b[39;49m,\u001b[39m\"\u001b[39;49m\u001b[39m.\u001b[39;49m\u001b[39m\\\u001b[39;49m\u001b[39mpython_test\u001b[39;49m\u001b[39m\"\u001b[39;49m)\n\u001b[1;32m      <a href='vscode-notebook-cell:/Users/rootbeam/code_index/old_setup/path_txt_csv/test_csv.ipynb#ch0000001?line=8'>9</a>\u001b[0m     \u001b[39mprint\u001b[39m(\u001b[39m\"\u001b[39m\u001b[39mไดเร็คทอรี \u001b[39m\u001b[39m\"\u001b[39m, os\u001b[39m.\u001b[39mgetcwd() , \u001b[39m\"\u001b[39m\u001b[39mประกอบด้วย \u001b[39m\u001b[39m\"\u001b[39m, os\u001b[39m.\u001b[39mlistdir(os\u001b[39m.\u001b[39mgetcwd()))\n\u001b[1;32m     <a href='vscode-notebook-cell:/Users/rootbeam/code_index/old_setup/path_txt_csv/test_csv.ipynb#ch0000001?line=10'>11</a>\u001b[0m     os\u001b[39m.\u001b[39mchdir(\u001b[39m\"\u001b[39m\u001b[39m..\u001b[39m\u001b[39m\\\u001b[39m\u001b[39mpath_txt_csv\u001b[39m\u001b[39m\\\u001b[39m\u001b[39mpython_test\u001b[39m\u001b[39m\"\u001b[39m)\n",
      "\u001b[0;31mFileNotFoundError\u001b[0m: [Errno 2] No such file or directory: '.\\\\os_test_path' -> '.\\\\python_test'"
     ]
    }
   ],
   "source": [
    "try :\n",
    "    os.mkdir(\"..\\path_txt_csv\\os_test_path\")\n",
    "except FileExistsError :\n",
    "    print(\"ไม่สามารถสร้างไดเร็คทอรีได้ เนื่องจากมีไดเร็คทอรีนี้แล้ว\")\n",
    "else :\n",
    "    print(\"ไดเร็คทอรี \", os.getcwd() , \"ประกอบด้วย \", os.listdir(os.getcwd()))\n",
    "\n",
    "    os.rename(\".\\os_test_path\",\".\\python_test\")\n",
    "    print(\"ไดเร็คทอรี \", os.getcwd() , \"ประกอบด้วย \", os.listdir(os.getcwd()))\n",
    "\n",
    "    os.chdir(\"..\\path_txt_csv\\python_test\")\n",
    "    with open(\"testfile.txt\",\"w\") as file :\n",
    "        file.write(\"test write file\")\n",
    "    print(\"ไดเร็คทอรี \", os.getcwd() , \"ประกอบด้วย \", os.listdir(os.getcwd()))\n",
    "\n",
    "    os.remove(\"testfile.txt\")\n",
    "    print(\"ไดเร็คทอรี \", os.getcwd(), \"ประกอบด้วย \", os.listdir(os.getcwd()))\n",
    "\n",
    "    os.chdir(\"..\")\n",
    "    os.rmdir(\"..\\path_txt_csv\\python_test\")\n",
    "    print(\"ไดเร็คทอรี \", os.getcwd(), \"ประกอบด้วย \", os.listdir(os.getcwd()))"
   ]
  },
  {
   "cell_type": "markdown",
   "metadata": {},
   "source": [
    "### CSV"
   ]
  },
  {
   "cell_type": "code",
   "execution_count": 3,
   "metadata": {},
   "outputs": [
    {
     "name": "stdout",
     "output_type": "stream",
     "text": [
      "['ชื่อ', 'นามสกุล', 'เบอร์โทรศัพท์', 'อีเมล', 'Line ID']\n",
      "['แพรวพรรณ', 'วรรณากุล', '0829954499', 'praewpan@gmail.com', 'iampraew']\n",
      "['สมชาย', 'ไม้เมือง', '0894254355', 'somchai@yahoo.com', 'msomchai']\n",
      "['กุลชาติ', 'เมืองยิ่ง', '0819876543', 'kulachart@hotmail.com', 'kulkul']\n",
      "['สมใจ', 'รักธรรม', '0654457788', 'somjai@gmail.com', 'somjaija']\n",
      "['สมศรี', 'สุขใจ', '0614224221', 'somsri@gmail.com', 'sukjai_somsri']\n"
     ]
    }
   ],
   "source": [
    "import csv\n",
    "\n",
    "myCustomer = [[\"ชื่อ\",\"นามสกุล\",\"เบอร์โทรศัพท์\",\"อีเมล\",\"Line ID\"],\n",
    "              [\"แพรวพรรณ\",\"วรรณากุล\",\"0829954499\",\"praewpan@gmail.com\",\"iampraew\"],\n",
    "              [\"สมชาย\", \"ไม้เมือง\", \"0894254355\", \"somchai@yahoo.com\", \"msomchai\"],\n",
    "              [\"กุลชาติ\", \"เมืองยิ่ง\", \"0819876543\", \"kulachart@hotmail.com\", \"kulkul\"],\n",
    "              [\"สมใจ\", \"รักธรรม\", \"0654457788\", \"somjai@gmail.com\", \"somjaija\"],\n",
    "              [\"สมศรี\", \"สุขใจ\", \"0614224221\", \"somsri@gmail.com\", \"sukjai_somsri\"]]\n",
    "\n",
    "with open(\"test_csv.csv\", \"w\" , encoding=\"UTF-8\" , newline = \"\\n\") as data :\n",
    "    custcontact_writer = csv.writer(data)\n",
    "    custcontact_writer.writerows(myCustomer)\n",
    "\n",
    "with open(\"test_csv.csv\", \"r\", encoding=\"UTF-8\") as csvfile :\n",
    "    custcontact_reader = csv.reader(csvfile)\n",
    "    for mycust in custcontact_reader :\n",
    "        print(mycust)"
   ]
  },
  {
   "cell_type": "markdown",
   "metadata": {},
   "source": [
    "### text"
   ]
  },
  {
   "cell_type": "code",
   "execution_count": 4,
   "metadata": {},
   "outputs": [
    {
     "name": "stdout",
     "output_type": "stream",
     "text": [
      "sentent 1sentent 2sentent 3\n",
      "sentent 4\n",
      "sentent 5\n",
      "sentent 6\n",
      "\n",
      "sentent 1sentent 2sentent 3\n",
      "\n",
      "entent 1sentent 2sentent 3\n",
      "\n",
      "sentent 1s\n",
      "['entent 2sentent 3\\n', 'sentent 4\\n', 'sentent 5\\n', 'sentent 6']\n",
      "text before editing\n",
      "sentent 1sentent 2sentent 3\n",
      "sentent 4\n",
      "sentent 5\n",
      "sentent 6\n",
      "text after editing\n",
      "sentent 1sentent 2sentent 3\n",
      "sentent 4\n",
      "sentent 5\n",
      "sentent 6\n",
      "sentent 7\n",
      "sentent 8\n",
      "text after editing 2\n",
      "sentent 1sentent 2sentent 3\n",
      "sentent 4\n",
      "sentent 5\n",
      "sentent 6\n",
      "sentent 7\n",
      "sentent 8\n",
      "sentent 9\n",
      "sentent 100000\n"
     ]
    }
   ],
   "source": [
    "# text \n",
    "text1 = open('test_text_1.txt','w',encoding='UTF-8')\n",
    "\n",
    "text1.write('sentent 1')\n",
    "text1.write('sentent 2')\n",
    "text1.write('sentent 3')\n",
    "text1.write('\\nsentent 4')\n",
    "text1.write('\\nsentent 5')\n",
    "text1.write('\\nsentent 6')\n",
    "\n",
    "text1.close()\n",
    "\n",
    "#################################################################\n",
    "\n",
    "data = open('test_text_1.txt','r',encoding='UTF-8')\n",
    "print(data.read())\n",
    "\n",
    "# read specific line\n",
    "print(data.readline())\n",
    "\n",
    "data.seek(0)\n",
    "print(data.readline())\n",
    "\n",
    "data.seek(1) # text positions\n",
    "print(data.readline())\n",
    "\n",
    "# text positions\n",
    "data.seek(0) \n",
    "# text positions\n",
    "print(data.readline(10)) \n",
    "\n",
    "# continue read from last position\n",
    "print(data.readlines())\n",
    "\n",
    "\n",
    "data.close()\n",
    "\n",
    "################################################################\n",
    "\n",
    "text2 = open('test_text_2.txt','w',encoding='UTF-8')\n",
    "\n",
    "text2.write('sentent 1')\n",
    "text2.write('sentent 2')\n",
    "text2.write('sentent 3')\n",
    "text2.write('\\nsentent 4')\n",
    "text2.write('\\nsentent 5')\n",
    "text2.write('\\nsentent 6')\n",
    "\n",
    "text2.close()\n",
    "\n",
    "\n",
    "data2 =  open('test_text_2.txt','a+',encoding='UTF-8')\n",
    "print('text before editing')\n",
    "data2.seek(0)\n",
    "print(data2.read())\n",
    "\n",
    "data2.write('\\nsentent 7\\nsentent 8')\n",
    "print('text after editing')\n",
    "data2.seek(0)\n",
    "print(data2.read())\n",
    "\n",
    "data2.write('\\nsentent 9\\nsentent 100000')\n",
    "print('text after editing 2')\n",
    "data2.seek(0)\n",
    "print(data2.read())\n",
    "\n",
    "data2.close()"
   ]
  },
  {
   "cell_type": "code",
   "execution_count": 5,
   "metadata": {},
   "outputs": [
    {
     "name": "stdout",
     "output_type": "stream",
     "text": [
      "player  1\n",
      "player  2\n",
      "player  3\n",
      "player  4\n",
      "player  5\n",
      "player  6\n",
      "\n",
      "********* all recorded score *********\n",
      "Player  1 score =   3\n",
      "Player  2 score =   5\n",
      "Player  3 score =   6\n",
      "Player  4 score =   7\n",
      "Player  5 score =   8\n",
      "Player  6 score =   9\n",
      "\n"
     ]
    }
   ],
   "source": [
    "player = int(input(\"How many player : \"))\n",
    "i = 1\n",
    "with open('test_text_3.txt','w+') as score_file:\n",
    "    while player !=0:\n",
    "        print(\"player {:2}\".format(i))\n",
    "        score = int(input(\"score : \"))\n",
    "        data = f\"Player {i:2} score = {score:3}\"\n",
    "        score_file.write(data)\n",
    "        score_file.write('\\n')\n",
    "        player -= 1\n",
    "        i += 1\n",
    "    score_file.seek(0)\n",
    "    print(\"\\n********* all recorded score *********\")\n",
    "    print(score_file.read())\n",
    "\n"
   ]
  }
 ],
 "metadata": {
  "kernelspec": {
   "display_name": "Python 3.10.6 ('env': venv)",
   "language": "python",
   "name": "python3"
  },
  "language_info": {
   "codemirror_mode": {
    "name": "ipython",
    "version": 3
   },
   "file_extension": ".py",
   "mimetype": "text/x-python",
   "name": "python",
   "nbconvert_exporter": "python",
   "pygments_lexer": "ipython3",
   "version": "3.10.6"
  },
  "orig_nbformat": 4,
  "vscode": {
   "interpreter": {
    "hash": "b685b0488d4c64a1998c5f2c31811bd367982fc623b3f2585bd004f507528c4b"
   }
  }
 },
 "nbformat": 4,
 "nbformat_minor": 2
}
