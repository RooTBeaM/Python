{
 "cells": [
  {
   "cell_type": "code",
   "execution_count": 6,
   "metadata": {},
   "outputs": [
    {
     "name": "stdout",
     "output_type": "stream",
     "text": [
      "ไดเร็คทอรีปัจจุบัน คือ  c:\\Users\\panya\\Python\\path_txt_csv\n",
      "ไดเร็คทอรี  c:\\Users\\panya\\Python\\path_txt_csv ประกอบด้วย  ['os_path.py', 'os_test_path', 'testcsv.py', 'test_csv', 'test_csv.csv', 'test_csv.ipynb', 'test_text_1.txt', 'test_text_2.txt', 'test_text_3.txt', 'text.py', 'with.py', '__pycache__']\n"
     ]
    }
   ],
   "source": [
    "import os\n",
    "\n",
    "# need to encode before print\n",
    "import sys\n",
    "# sys.stdout.reconfigure(encoding='utf-8')\n",
    "\n",
    "\n",
    "print(\"ไดเร็คทอรีปัจจุบัน คือ \",os.getcwd())\n",
    "print(\"ไดเร็คทอรี \", os.getcwd() , \"ประกอบด้วย \", os.listdir(os.getcwd()))\n"
   ]
  },
  {
   "cell_type": "code",
   "execution_count": 14,
   "metadata": {},
   "outputs": [
    {
     "name": "stdout",
     "output_type": "stream",
     "text": [
      "ไดเร็คทอรี  c:\\Users\\panya\\Python\\path_txt_csv ประกอบด้วย  ['os_path.py', 'os_test_path', 'testcsv.py', 'test_csv', 'test_csv.csv', 'test_csv.ipynb', 'test_text_1.txt', 'test_text_2.txt', 'test_text_3.txt', 'text.py', 'with.py', '__pycache__']\n",
      "ไดเร็คทอรี  c:\\Users\\panya\\Python\\path_txt_csv ประกอบด้วย  ['os_path.py', 'python_test', 'testcsv.py', 'test_csv', 'test_csv.csv', 'test_csv.ipynb', 'test_text_1.txt', 'test_text_2.txt', 'test_text_3.txt', 'text.py', 'with.py', '__pycache__']\n",
      "ไดเร็คทอรี  c:\\Users\\panya\\Python\\path_txt_csv\\python_test ประกอบด้วย  ['testfile.txt']\n",
      "ไดเร็คทอรี  c:\\Users\\panya\\Python\\path_txt_csv\\python_test ประกอบด้วย  []\n",
      "ไดเร็คทอรี  c:\\Users\\panya\\Python\\path_txt_csv ประกอบด้วย  ['os_path.py', 'testcsv.py', 'test_csv', 'test_csv.csv', 'test_csv.ipynb', 'test_text_1.txt', 'test_text_2.txt', 'test_text_3.txt', 'text.py', 'with.py', '__pycache__']\n"
     ]
    }
   ],
   "source": [
    "try :\n",
    "    os.mkdir(\"..\\path_txt_csv\\os_test_path\")\n",
    "except FileExistsError :\n",
    "    print(\"ไม่สามารถสร้างไดเร็คทอรีได้ เนื่องจากมีไดเร็คทอรีนี้แล้ว\")\n",
    "else :\n",
    "    print(\"ไดเร็คทอรี \", os.getcwd() , \"ประกอบด้วย \", os.listdir(os.getcwd()))\n",
    "\n",
    "    os.rename(\".\\os_test_path\",\".\\python_test\")\n",
    "    print(\"ไดเร็คทอรี \", os.getcwd() , \"ประกอบด้วย \", os.listdir(os.getcwd()))\n",
    "\n",
    "    os.chdir(\"..\\path_txt_csv\\python_test\")\n",
    "    with open(\"testfile.txt\",\"w\") as file :\n",
    "        file.write(\"test write file\")\n",
    "    print(\"ไดเร็คทอรี \", os.getcwd() , \"ประกอบด้วย \", os.listdir(os.getcwd()))\n",
    "\n",
    "    os.remove(\"testfile.txt\")\n",
    "    print(\"ไดเร็คทอรี \", os.getcwd(), \"ประกอบด้วย \", os.listdir(os.getcwd()))\n",
    "\n",
    "    os.chdir(\"..\")\n",
    "    os.rmdir(\"..\\path_txt_csv\\python_test\")\n",
    "    print(\"ไดเร็คทอรี \", os.getcwd(), \"ประกอบด้วย \", os.listdir(os.getcwd()))"
   ]
  },
  {
   "cell_type": "markdown",
   "metadata": {},
   "source": [
    "### CSV"
   ]
  },
  {
   "cell_type": "code",
   "execution_count": 16,
   "metadata": {},
   "outputs": [
    {
     "name": "stdout",
     "output_type": "stream",
     "text": [
      "['ชื่อ', 'นามสกุล', 'เบอร์โทรศัพท์', 'อีเมล', 'Line ID']\n",
      "['แพรวพรรณ', 'วรรณากุล', '0829954499', 'praewpan@gmail.com', 'iampraew']\n",
      "['สมชาย', 'ไม้เมือง', '0894254355', 'somchai@yahoo.com', 'msomchai']\n",
      "['กุลชาติ', 'เมืองยิ่ง', '0819876543', 'kulachart@hotmail.com', 'kulkul']\n",
      "['สมใจ', 'รักธรรม', '0654457788', 'somjai@gmail.com', 'somjaija']\n",
      "['สมศรี', 'สุขใจ', '0614224221', 'somsri@gmail.com', 'sukjai_somsri']\n"
     ]
    }
   ],
   "source": [
    "import csv\n",
    "\n",
    "myCustomer = [[\"ชื่อ\",\"นามสกุล\",\"เบอร์โทรศัพท์\",\"อีเมล\",\"Line ID\"],\n",
    "              [\"แพรวพรรณ\",\"วรรณากุล\",\"0829954499\",\"praewpan@gmail.com\",\"iampraew\"],\n",
    "              [\"สมชาย\", \"ไม้เมือง\", \"0894254355\", \"somchai@yahoo.com\", \"msomchai\"],\n",
    "              [\"กุลชาติ\", \"เมืองยิ่ง\", \"0819876543\", \"kulachart@hotmail.com\", \"kulkul\"],\n",
    "              [\"สมใจ\", \"รักธรรม\", \"0654457788\", \"somjai@gmail.com\", \"somjaija\"],\n",
    "              [\"สมศรี\", \"สุขใจ\", \"0614224221\", \"somsri@gmail.com\", \"sukjai_somsri\"]]\n",
    "\n",
    "with open(\"test_csv.csv\", \"w\" , encoding=\"UTF-8\" , newline = \"\\n\") as data :\n",
    "    custcontact_writer = csv.writer(data)\n",
    "    custcontact_writer.writerows(myCustomer)\n",
    "\n",
    "with open(\"test_csv.csv\", \"r\", encoding=\"UTF-8\") as csvfile :\n",
    "    custcontact_reader = csv.reader(csvfile)\n",
    "    for mycust in custcontact_reader :\n",
    "        print(mycust)"
   ]
  },
  {
   "cell_type": "markdown",
   "metadata": {},
   "source": [
    "### text"
   ]
  },
  {
   "cell_type": "code",
   "execution_count": 17,
   "metadata": {},
   "outputs": [
    {
     "name": "stdout",
     "output_type": "stream",
     "text": [
      "sentent 1sentent 2sentent 3\n",
      "sentent 4\n",
      "sentent 5\n",
      "sentent 6\n",
      "\n",
      "sentent 1sentent 2sentent 3\n",
      "\n",
      "entent 1sentent 2sentent 3\n",
      "\n",
      "sentent 1s\n",
      "['entent 2sentent 3\\n', 'sentent 4\\n', 'sentent 5\\n', 'sentent 6']\n",
      "text before editing\n",
      "sentent 1sentent 2sentent 3\n",
      "sentent 4\n",
      "sentent 5\n",
      "sentent 6\n",
      "text after editing\n",
      "sentent 1sentent 2sentent 3\n",
      "sentent 4\n",
      "sentent 5\n",
      "sentent 6\n",
      "sentent 7\n",
      "sentent 8\n",
      "text after editing 2\n",
      "sentent 1sentent 2sentent 3\n",
      "sentent 4\n",
      "sentent 5\n",
      "sentent 6\n",
      "sentent 7\n",
      "sentent 8\n",
      "sentent 9\n",
      "sentent 100000\n"
     ]
    }
   ],
   "source": [
    "# text \n",
    "text1 = open('test_text_1.txt','w',encoding='UTF-8')\n",
    "\n",
    "text1.write('sentent 1')\n",
    "text1.write('sentent 2')\n",
    "text1.write('sentent 3')\n",
    "text1.write('\\nsentent 4')\n",
    "text1.write('\\nsentent 5')\n",
    "text1.write('\\nsentent 6')\n",
    "\n",
    "text1.close()\n",
    "\n",
    "#################################################################\n",
    "\n",
    "data = open('test_text_1.txt','r',encoding='UTF-8')\n",
    "print(data.read())\n",
    "\n",
    "# read specific line\n",
    "print(data.readline())\n",
    "\n",
    "data.seek(0)\n",
    "print(data.readline())\n",
    "\n",
    "data.seek(1) # text positions\n",
    "print(data.readline())\n",
    "\n",
    "# text positions\n",
    "data.seek(0) \n",
    "# text positions\n",
    "print(data.readline(10)) \n",
    "\n",
    "# continue read from last position\n",
    "print(data.readlines())\n",
    "\n",
    "\n",
    "data.close()\n",
    "\n",
    "################################################################\n",
    "\n",
    "text2 = open('test_text_2.txt','w',encoding='UTF-8')\n",
    "\n",
    "text2.write('sentent 1')\n",
    "text2.write('sentent 2')\n",
    "text2.write('sentent 3')\n",
    "text2.write('\\nsentent 4')\n",
    "text2.write('\\nsentent 5')\n",
    "text2.write('\\nsentent 6')\n",
    "\n",
    "text2.close()\n",
    "\n",
    "\n",
    "data2 =  open('test_text_2.txt','a+',encoding='UTF-8')\n",
    "print('text before editing')\n",
    "data2.seek(0)\n",
    "print(data2.read())\n",
    "\n",
    "data2.write('\\nsentent 7\\nsentent 8')\n",
    "print('text after editing')\n",
    "data2.seek(0)\n",
    "print(data2.read())\n",
    "\n",
    "data2.write('\\nsentent 9\\nsentent 100000')\n",
    "print('text after editing 2')\n",
    "data2.seek(0)\n",
    "print(data2.read())\n",
    "\n",
    "data2.close()"
   ]
  },
  {
   "cell_type": "code",
   "execution_count": 18,
   "metadata": {},
   "outputs": [
    {
     "name": "stdout",
     "output_type": "stream",
     "text": [
      "player  1\n",
      "player  2\n",
      "player  3\n",
      "player  4\n",
      "player  5\n",
      "\n",
      "********* all recorded score *********\n",
      "Player  1 score =  55\n",
      "Player  2 score =  44\n",
      "Player  3 score =  33\n",
      "Player  4 score =  22\n",
      "Player  5 score =  11\n",
      "\n"
     ]
    }
   ],
   "source": [
    "player = int(input(\"How many player : \"))\n",
    "i = 1\n",
    "with open('test_text_3.txt','w+') as score_file:\n",
    "    while player !=0:\n",
    "        print(\"player {:2}\".format(i))\n",
    "        score = int(input(\"score : \"))\n",
    "        data = f\"Player {i:2} score = {score:3}\"\n",
    "        score_file.write(data)\n",
    "        score_file.write('\\n')\n",
    "        player -= 1\n",
    "        i += 1\n",
    "    score_file.seek(0)\n",
    "    print(\"\\n********* all recorded score *********\")\n",
    "    print(score_file.read())\n",
    "\n"
   ]
  }
 ],
 "metadata": {
  "interpreter": {
   "hash": "0470b39d3530367a7b63bab661296665ce5b8c4109b79a90598be9e98e972503"
  },
  "kernelspec": {
   "display_name": "Python 3.8.8 ('env': venv)",
   "language": "python",
   "name": "python3"
  },
  "language_info": {
   "codemirror_mode": {
    "name": "ipython",
    "version": 3
   },
   "file_extension": ".py",
   "mimetype": "text/x-python",
   "name": "python",
   "nbconvert_exporter": "python",
   "pygments_lexer": "ipython3",
   "version": "3.8.8"
  },
  "orig_nbformat": 4
 },
 "nbformat": 4,
 "nbformat_minor": 2
}
