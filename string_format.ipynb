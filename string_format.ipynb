{
 "cells": [
  {
   "cell_type": "code",
   "execution_count": 1,
   "metadata": {},
   "outputs": [
    {
     "name": "stdout",
     "output_type": "stream",
     "text": [
      "0 1 2 3 4\n",
      "01234\n",
      "0 1 2 3 4***new print\n"
     ]
    }
   ],
   "source": [
    "# print fucnction\n",
    "print(0,1,2,3,4) # spacebar\n",
    "print(0,1,2,3,4,sep=\"\") # no spacebar\n",
    "print(0,1,2,3,4,end=\"***\") # spacebar\n",
    "print(\"new print\") # no a new line\n"
   ]
  },
  {
   "cell_type": "code",
   "execution_count": 2,
   "metadata": {},
   "outputs": [
    {
     "name": "stdout",
     "output_type": "stream",
     "text": [
      "12315465.21585668\n",
      "12315465.22\n",
      "12,315,465.216\n",
      "12,315,465.21585668\n"
     ]
    }
   ],
   "source": [
    "# a is int\n",
    "a = 12315465.21585668\n",
    "b = -2313.215\n",
    "\n",
    "# all printed is string\n",
    "print(\"{}\".format(a))\n",
    "print(\"{:.2f}\".format(a))\n",
    "print(\"{:,.3f}\".format(a))\n",
    "print(\"{:,}\".format(a))"
   ]
  },
  {
   "cell_type": "code",
   "execution_count": 3,
   "metadata": {},
   "outputs": [
    {
     "name": "stdout",
     "output_type": "stream",
     "text": [
      "----------------------------------------\n"
     ]
    }
   ],
   "source": [
    "print(\"--\"*20)"
   ]
  },
  {
   "cell_type": "code",
   "execution_count": 4,
   "metadata": {},
   "outputs": [
    {
     "name": "stdout",
     "output_type": "stream",
     "text": [
      "   12315465.21585668\n",
      "         12315465.22\n",
      "      12,315,465.216\n",
      " 12,315,465.21585668\n"
     ]
    }
   ],
   "source": [
    "# align rignt   \n",
    "print(\"{:20}\".format(a))\n",
    "print(\"{:20.2f}\".format(a))\n",
    "print(\"{:20,.3f}\".format(a))\n",
    "print(\"{:20,}\".format(a))"
   ]
  },
  {
   "cell_type": "code",
   "execution_count": 5,
   "metadata": {},
   "outputs": [
    {
     "name": "stdout",
     "output_type": "stream",
     "text": [
      "           -2313.215\n",
      "-            2313.22\n"
     ]
    }
   ],
   "source": [
    "# minus\n",
    "print(\"{:20}\".format(b))\n",
    "print(\"{:=20.2f}\".format(b))"
   ]
  },
  {
   "cell_type": "code",
   "execution_count": 6,
   "metadata": {},
   "outputs": [
    {
     "name": "stdout",
     "output_type": "stream",
     "text": [
      "th |Thailand|\n",
      "th    |Thailand       |\n",
      "th    |Thailand*******|\n",
      "   th |       Thailand|\n",
      "***th |*******Thailand|\n",
      " th   |   Thailand    |\n"
     ]
    }
   ],
   "source": [
    "# padding \n",
    "text_a = \"th\",'Thailand'\n",
    "\n",
    "print(f'{text_a[0]} |{text_a[1]}|')\n",
    "print(f'{text_a[0]:5} |{text_a[1]:15}|') #align left\n",
    "print(f'{text_a[0]:<5} |{text_a[1]:*<15}|') # align left\n",
    "print(f'{text_a[0]:>5} |{text_a[1]:>15}|') # align right\n",
    "print(f'{text_a[0]:*>5} |{text_a[1]:*>15}|') # align right with *\n",
    "print(f'{text_a[0]:^5} |{text_a[1]:^15}|') # align center"
   ]
  },
  {
   "cell_type": "code",
   "execution_count": 7,
   "metadata": {},
   "outputs": [
    {
     "name": "stdout",
     "output_type": "stream",
     "text": [
      "sing = 40\n",
      "sing = 40\n"
     ]
    }
   ],
   "source": [
    "# dict print\n",
    "dict_a = {\"name\" : \"sing\",\n",
    "          \"price\": 40}\n",
    "print(f\"{dict_a['name']} = {dict_a['price']}\")\n",
    "print(\"{name} = {price}\".format(**dict_a))"
   ]
  },
  {
   "cell_type": "code",
   "execution_count": 8,
   "metadata": {},
   "outputs": [
    {
     "name": "stdout",
     "output_type": "stream",
     "text": [
      " 65... 65 0b1000001 0101 0x41 0X41 A\n",
      " 66... 66 0b1000010 0102 0x42 0X42 B\n",
      " 67... 67 0b1000011 0103 0x43 0X43 C\n",
      " 68... 68 0b1000100 0104 0x44 0X44 D\n",
      " 69... 69 0b1000101 0105 0x45 0X45 E\n",
      " 70... 70 0b1000110 0106 0x46 0X46 F\n",
      " 71... 71 0b1000111 0107 0x47 0X47 G\n",
      " 72... 72 0b1001000 0110 0x48 0X48 H\n",
      " 73... 73 0b1001001 0111 0x49 0X49 I\n",
      " 74... 74 0b1001010 0112 0x4a 0X4A J\n",
      " 75... 75 0b1001011 0113 0x4b 0X4B K\n",
      " 76... 76 0b1001100 0114 0x4c 0X4C L\n",
      " 77... 77 0b1001101 0115 0x4d 0X4D M\n",
      " 78... 78 0b1001110 0116 0x4e 0X4E N\n",
      " 79... 79 0b1001111 0117 0x4f 0X4F O\n",
      " 80... 80 0b1010000 0120 0x50 0X50 P\n",
      " 81... 81 0b1010001 0121 0x51 0X51 Q\n",
      " 82... 82 0b1010010 0122 0x52 0X52 R\n",
      " 83... 83 0b1010011 0123 0x53 0X53 S\n",
      " 84... 84 0b1010100 0124 0x54 0X54 T\n",
      " 85... 85 0b1010101 0125 0x55 0X55 U\n",
      " 86... 86 0b1010110 0126 0x56 0X56 V\n",
      " 87... 87 0b1010111 0127 0x57 0X57 W\n",
      " 88... 88 0b1011000 0130 0x58 0X58 X\n",
      " 89... 89 0b1011001 0131 0x59 0X59 Y\n",
      " 90... 90 0b1011010 0132 0x5a 0X5A Z\n",
      " 91... 91 0b1011011 0133 0x5b 0X5B [\n",
      " 92... 92 0b1011100 0134 0x5c 0X5C \\\n",
      " 93... 93 0b1011101 0135 0x5d 0X5D ]\n",
      " 94... 94 0b1011110 0136 0x5e 0X5E ^\n",
      " 95... 95 0b1011111 0137 0x5f 0X5F _\n",
      " 96... 96 0b1100000 0140 0x60 0X60 `\n",
      " 97... 97 0b1100001 0141 0x61 0X61 a\n",
      " 98... 98 0b1100010 0142 0x62 0X62 b\n",
      " 99... 99 0b1100011 0143 0x63 0X63 c\n",
      "100...100 0b1100100 0144 0x64 0X64 d\n",
      "101...101 0b1100101 0145 0x65 0X65 e\n",
      "102...102 0b1100110 0146 0x66 0X66 f\n",
      "103...103 0b1100111 0147 0x67 0X67 g\n",
      "104...104 0b1101000 0150 0x68 0X68 h\n",
      "105...105 0b1101001 0151 0x69 0X69 i\n",
      "106...106 0b1101010 0152 0x6a 0X6A j\n",
      "107...107 0b1101011 0153 0x6b 0X6B k\n",
      "108...108 0b1101100 0154 0x6c 0X6C l\n",
      "109...109 0b1101101 0155 0x6d 0X6D m\n",
      "110...110 0b1101110 0156 0x6e 0X6E n\n",
      "111...111 0b1101111 0157 0x6f 0X6F o\n",
      "112...112 0b1110000 0160 0x70 0X70 p\n",
      "113...113 0b1110001 0161 0x71 0X71 q\n",
      "114...114 0b1110010 0162 0x72 0X72 r\n",
      "115...115 0b1110011 0163 0x73 0X73 s\n",
      "116...116 0b1110100 0164 0x74 0X74 t\n",
      "117...117 0b1110101 0165 0x75 0X75 u\n",
      "118...118 0b1110110 0166 0x76 0X76 v\n",
      "119...119 0b1110111 0167 0x77 0X77 w\n",
      "120...120 0b1111000 0170 0x78 0X78 x\n",
      "121...121 0b1111001 0171 0x79 0X79 y\n",
      "122...122 0b1111010 0172 0x7a 0X7A z\n",
      "123...123 0b1111011 0173 0x7b 0X7B {\n",
      "124...124 0b1111100 0174 0x7c 0X7C |\n",
      "125...125 0b1111101 0175 0x7d 0X7D }\n",
      "126...126 0b1111110 0176 0x7e 0X7E ~\n",
      "127...127 0b1111111 0177 0x7f 0X7F \n"
     ]
    }
   ],
   "source": [
    "# ascii_table + Number System\n",
    "for i in range(65,128):\n",
    "    print(f\"{i:3}\",end=\"...\")\n",
    "    # 10 2 4 8 8 ascii\n",
    "    print(\"{0:3} {0:#08b} {0:04o} {0:#x} {0:#X} {0:c}\".format(i))"
   ]
  }
 ],
 "metadata": {
  "interpreter": {
   "hash": "0470b39d3530367a7b63bab661296665ce5b8c4109b79a90598be9e98e972503"
  },
  "kernelspec": {
   "display_name": "Python 3.8.8 ('env': venv)",
   "language": "python",
   "name": "python3"
  },
  "language_info": {
   "codemirror_mode": {
    "name": "ipython",
    "version": 3
   },
   "file_extension": ".py",
   "mimetype": "text/x-python",
   "name": "python",
   "nbconvert_exporter": "python",
   "pygments_lexer": "ipython3",
   "version": "3.8.8"
  },
  "orig_nbformat": 4
 },
 "nbformat": 4,
 "nbformat_minor": 2
}
