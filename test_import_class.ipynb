{
 "cells": [
  {
   "cell_type": "code",
   "execution_count": 5,
   "metadata": {},
   "outputs": [
    {
     "name": "stdout",
     "output_type": "stream",
     "text": [
      "start test from import1\n",
      "55 965 85\n",
      "140\n"
     ]
    }
   ],
   "source": [
    "# some_file.py\n",
    "import sys\n",
    "# insert at 1, 0 is the script path (or '' in REPL)\n",
    "sys.path.insert(1, 'class')\n",
    "\n",
    "from import_1 import test_a\n",
    "\n",
    "print('start test from import1')\n",
    "set_a = test_a(55,85,965)\n",
    "test_a.print_val(set_a.a,set_a.c,set_a.b)\n",
    "test_a.func1(set_a.b,set_a.a)"
   ]
  }
 ],
 "metadata": {
  "interpreter": {
   "hash": "0470b39d3530367a7b63bab661296665ce5b8c4109b79a90598be9e98e972503"
  },
  "kernelspec": {
   "display_name": "Python 3.8.8 ('env': venv)",
   "language": "python",
   "name": "python3"
  },
  "language_info": {
   "codemirror_mode": {
    "name": "ipython",
    "version": 3
   },
   "file_extension": ".py",
   "mimetype": "text/x-python",
   "name": "python",
   "nbconvert_exporter": "python",
   "pygments_lexer": "ipython3",
   "version": "3.8.8"
  },
  "orig_nbformat": 4
 },
 "nbformat": 4,
 "nbformat_minor": 2
}
