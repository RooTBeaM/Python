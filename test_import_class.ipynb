{
 "cells": [
  {
   "cell_type": "code",
   "execution_count": 3,
   "metadata": {},
   "outputs": [
    {
     "ename": "ModuleNotFoundError",
     "evalue": "No module named 'create_class_and_main'",
     "output_type": "error",
     "traceback": [
      "\u001b[1;31m---------------------------------------------------------------------------\u001b[0m",
      "\u001b[1;31mModuleNotFoundError\u001b[0m                       Traceback (most recent call last)",
      "\u001b[1;32mc:\\Users\\panya\\Python\\Class\\test_import_class.ipynb Cell 1'\u001b[0m in \u001b[0;36m<cell line: 1>\u001b[1;34m()\u001b[0m\n\u001b[1;32m----> <a href='vscode-notebook-cell:/c%3A/Users/panya/Python/Class/test_import_class.ipynb#ch0000000?line=0'>1</a>\u001b[0m \u001b[39mfrom\u001b[39;00m \u001b[39mcreate_class_and_main\u001b[39;00m\u001b[39m.\u001b[39;00m\u001b[39mipynb\u001b[39;00m \u001b[39mimport\u001b[39;00m test_a\n\u001b[0;32m      <a href='vscode-notebook-cell:/c%3A/Users/panya/Python/Class/test_import_class.ipynb#ch0000000?line=2'>3</a>\u001b[0m \u001b[39mprint\u001b[39m(\u001b[39m'\u001b[39m\u001b[39mstart test from import1\u001b[39m\u001b[39m'\u001b[39m)\n\u001b[0;32m      <a href='vscode-notebook-cell:/c%3A/Users/panya/Python/Class/test_import_class.ipynb#ch0000000?line=3'>4</a>\u001b[0m set_a \u001b[39m=\u001b[39m test_a(\u001b[39m55\u001b[39m,\u001b[39m85\u001b[39m,\u001b[39m965\u001b[39m)\n",
      "\u001b[1;31mModuleNotFoundError\u001b[0m: No module named 'create_class_and_main'"
     ]
    }
   ],
   "source": [
    "from create_class_and_main import test_a\n",
    "\n",
    "print('start test from import1')\n",
    "set_a = test_a(55,85,965)\n",
    "test_a.print_val(set_a.a,set_a.c,set_a.b)\n",
    "test_a.func1(set_a.b,set_a.a)"
   ]
  }
 ],
 "metadata": {
  "interpreter": {
   "hash": "0470b39d3530367a7b63bab661296665ce5b8c4109b79a90598be9e98e972503"
  },
  "kernelspec": {
   "display_name": "Python 3.8.8 ('env': venv)",
   "language": "python",
   "name": "python3"
  },
  "language_info": {
   "codemirror_mode": {
    "name": "ipython",
    "version": 3
   },
   "file_extension": ".py",
   "mimetype": "text/x-python",
   "name": "python",
   "nbconvert_exporter": "python",
   "pygments_lexer": "ipython3",
   "version": "3.8.8"
  },
  "orig_nbformat": 4
 },
 "nbformat": 4,
 "nbformat_minor": 2
}
